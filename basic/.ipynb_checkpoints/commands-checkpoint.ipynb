{
 "cells": [
  {
   "cell_type": "markdown",
   "metadata": {},
   "source": [
    "# Commands for jupyter\n",
    "\n",
    "jupyter has two command mode:\n",
    "* command mode: `esc` to switch to this mode, cell is surrounded by blue\n",
    "* edit mode: focused on a specific line with cursor, cell is surrounded by green\n",
    "\n",
    "type `h` when you're in command mode to check all shortcuts!\n",
    "\n",
    "type `cmd + shift + p` to open searching palette\n",
    "\n",
    "command|action\n",
    "----|----\n",
    "`m`|switch to markdown mode\n",
    "`y`|switch to code mode\n",
    "\n",
    "## LaTex\n",
    "* wrap with `$` to show inline\n",
    "* wrap with `$$` to show new line\n",
    "\n",
    "$$S = \\frac{1}{1+e^{-x}}$$"
   ]
  },
  {
   "cell_type": "markdown",
   "metadata": {},
   "source": [
    "## basic for numpy\n",
    "* numpy is a library to handle mathmatical calculations\n",
    "\n",
    "```python\n",
    "%matplotlib inline\n",
    "# import numpy and label it as 'np'\n",
    "import numpy as np\n",
    "\n",
    "# x.iloc[row, column], ':' indicates to retrieve all\n",
    "x.iloc[0,:] # get all in row 0 \n",
    "\n",
    "# set precision of values with 3 digits after . and forbid to use geometric expressions\n",
    "np.set_printoptions(precision=3, surpress=true)\n",
    "```"
   ]
  },
  {
   "cell_type": "markdown",
   "metadata": {},
   "source": [
    "## basic syntax for pandas\n",
    "\n",
    "* pandas is a library to handle your database\n",
    "\n",
    "```python\n",
    "# import pandas and label it as 'pd'\n",
    "import pandas as pd\n",
    "\n",
    "df = pd.read_csv('file.csv')\n",
    "df.head(3) # show first 3 rows\n",
    "```"
   ]
  },
  {
   "cell_type": "markdown",
   "metadata": {},
   "source": [
    "## basic syntax for sikit learn\n",
    "\n",
    "```python\n",
    "# import specific libraries to save memory\n",
    "from sklearn.linear_model import LinearRegression\n",
    "# split train case and test case\n",
    "from sklearn.model_selection import train_test_split\n",
    "\n",
    "# initialize\n",
    "model = LinearRegression\n",
    "\n",
    "# class methods\n",
    "X_train,X_test,y_train,y_test = train_test_split(X, y, test_size=0.4, random_state=1)\n",
    "\n",
    "# instance methods\n",
    "model.fit(X_train, y_train) # training\n",
    "model.score(X_test, y_test) # \n",
    "\n",
    "model.coef_ # show weight vector\n",
    "model.predict([x]) # predict\n",
    "\n",
    "\n",
    "# export\n",
    "from sklearn.externals import joblib\n",
    "model.dump(model, 'model.pkl') # save the model to file\n",
    "model_new = joblib.load('model.pkl') # load a model\n",
    "```"
   ]
  },
  {
   "cell_type": "markdown",
   "metadata": {},
   "source": [
    "## other external libraries\n",
    "\n",
    "* seaborn: visualize data\n",
    "\n",
    "```python\n",
    "import seaborn as sns\n",
    "# show histogram\n",
    "sns.distplot(df['header_name'])\n",
    "\n",
    "```"
   ]
  }
 ],
 "metadata": {
  "kernelspec": {
   "display_name": "Python 3",
   "language": "python",
   "name": "python3"
  },
  "language_info": {
   "codemirror_mode": {
    "name": "ipython",
    "version": 3
   },
   "file_extension": ".py",
   "mimetype": "text/x-python",
   "name": "python",
   "nbconvert_exporter": "python",
   "pygments_lexer": "ipython3",
   "version": "3.6.6"
  }
 },
 "nbformat": 4,
 "nbformat_minor": 2
}
